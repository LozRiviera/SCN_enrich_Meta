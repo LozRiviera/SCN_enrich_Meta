{
 "cells": [
  {
   "cell_type": "markdown",
   "metadata": {},
   "source": [
    "## Hypergeometric distributions:\n",
    "\n",
    "In probability theory and statistics, the hypergeometric distribution is a discrete probability distribution that describes the probability of k successes in n draws, without replacement, from a finite population of size N that contains exactly K successes, wherein each draw is either a success or a failure. In contrast, the binomial distribution describes the probability of k successes in n draws with replacement."
   ]
  },
  {
   "cell_type": "markdown",
   "metadata": {},
   "source": [
    "https://en.wikipedia.org/wiki/Hypergeometric_distribution \n",
    "\n",
    "and information below frm the scpi.stats docs for the hypergeom package:\n",
    "\n",
    "https://docs.scipy.org/doc/scipy/reference/generated/scipy.stats.hypergeom.html\n"
   ]
  },
  {
   "cell_type": "markdown",
   "metadata": {},
   "source": [
    "#### Notes\n",
    "\n",
    "The probability mass function is defined as:\n",
    "\n",
    "pmf(k, M, n, N) = choose(n, k) * choose(M - n, N - k) / choose(M, N),\n",
    "                               for max(0, N - (M-n)) <= k <= min(n, N)\n",
    "                               \n",
    "                               \n",
    "The probability mass function above is defined in the “standardized” form. To shift distribution use the loc parameter. Specifically, hypergeom.pmf(k, M, n, N, loc) is identically equivalent to hypergeom.pmf(k - loc, M, n, N)."
   ]
  },
  {
   "cell_type": "code",
   "execution_count": 2,
   "metadata": {
    "collapsed": false
   },
   "outputs": [],
   "source": [
    "from scipy.stats import hypergeom\n",
    "import matplotlib.pyplot as plt\n",
    "import numpy as np\n",
    "%matplotlib inline"
   ]
  },
  {
   "cell_type": "markdown",
   "metadata": {},
   "source": [
    "### example given in scipy docs\n",
    "\n",
    "Chances of selecting different numbers of dogs from a group of animals. In this case 7 (n) of the pool of 20 (M) animals are dogs.\n",
    "Picking 12 (N)"
   ]
  },
  {
   "cell_type": "code",
   "execution_count": 3,
   "metadata": {
    "collapsed": false
   },
   "outputs": [],
   "source": [
    "[M, n, N] = [20, 7, 12]\n",
    "rv = hypergeom(M, n, N)\n",
    "x = np.arange(0, n+1)\n",
    "pmf_dogs = rv.pmf(x)"
   ]
  },
  {
   "cell_type": "code",
   "execution_count": 4,
   "metadata": {
    "collapsed": false
   },
   "outputs": [
    {
     "data": {
      "image/png": "[encoded data removed]",
      "text/plain": [
       "<matplotlib.figure.Figure at 0x849b470>"
      ]
     },
     "metadata": {},
     "output_type": "display_data"
    }
   ],
   "source": [
    "fig = plt.figure()\n",
    "ax = fig.add_subplot(111)\n",
    "ax.plot(x, pmf_dogs, 'bo')\n",
    "ax.vlines(x, 0, pmf_dogs, lw=2)\n",
    "ax.set_xlabel('# of dogs in our group of chosen animals')\n",
    "ax.set_ylabel('hypergeom PMF')\n",
    "plt.show()"
   ]
  },
  {
   "cell_type": "markdown",
   "metadata": {},
   "source": [
    "### Imprinted genes\n",
    "\n",
    "\n",
    "\n",
    "In the first case we look at the chances of selecting 0-43 known imprinted genes (using table1 in  Gregg eta l. Science 2010, 329:643-648). 43 of 45 match MGI gene symbols. total gene symbols in study = 31684 (M) and number picked by multiple test-corrected cut-off for significantly enriched or depleted genes."
   ]
  },
  {
   "cell_type": "code",
   "execution_count": 5,
   "metadata": {
    "collapsed": false
   },
   "outputs": [],
   "source": [
    "[M, n, N] = [31684, 43, 4403]\n",
    "rv2 = hypergeom(M, n, N)\n",
    "x2 = np.arange(0, n+1)\n",
    "pmf_imprint = rv2.pmf(x2)"
   ]
  },
  {
   "cell_type": "code",
   "execution_count": 6,
   "metadata": {
    "collapsed": false
   },
   "outputs": [
    {
     "data": {
      "image/png": "[encoded data removed]",
      "text/plain": [
       "<matplotlib.figure.Figure at 0x86cbb70>"
      ]
     },
     "metadata": {},
     "output_type": "display_data"
    }
   ],
   "source": [
    "fig2 = plt.figure()\n",
    "ax2 = fig2.add_subplot(111)\n",
    "ax2.plot(x2, pmf_imprint)\n",
    "\n",
    "ax2.set_xlabel('# of imprinted genes')\n",
    "ax2.set_ylabel('hypergeom PMF')\n",
    "plt.show(fig2)"
   ]
  },
  {
   "cell_type": "code",
   "execution_count": 7,
   "metadata": {
    "collapsed": false
   },
   "outputs": [
    {
     "data": {
      "text/plain": [
       "0.002947014524851408"
      ]
     },
     "execution_count": 7,
     "metadata": {},
     "output_type": "execute_result"
    }
   ],
   "source": [
    "pmf_imprint[13]  # 13 enriched genes were found in the 4403 genes with 1% pFDR, => p < 0.003  for this by chance"
   ]
  },
  {
   "cell_type": "markdown",
   "metadata": {},
   "source": [
    "### Perhaps more relevent examine the chance of 13 or more enriched genes being found in the 4403 symbols that passed 1% pFDR "
   ]
  },
  {
   "cell_type": "code",
   "execution_count": 8,
   "metadata": {
    "collapsed": false
   },
   "outputs": [
    {
     "data": {
      "text/plain": [
       "0.0043997796679022816"
      ]
     },
     "execution_count": 8,
     "metadata": {},
     "output_type": "execute_result"
    }
   ],
   "source": [
    "1-hypergeom.cdf(12,31684, 43, 4403) # direct call p value for 13 or more of 43 imprinted genes in 4403"
   ]
  },
  {
   "cell_type": "markdown",
   "metadata": {},
   "source": [
    "### The chance of 12 enriched genes being found in the 1037 symbols that passed 1% pFDR plus had an effect size of more than 3 in each direction (<= -3 or  >= 3)"
   ]
  },
  {
   "cell_type": "code",
   "execution_count": 9,
   "metadata": {
    "collapsed": false
   },
   "outputs": [],
   "source": [
    "[M, n, N] = [31684, 43, 1037]\n",
    "rv3 = hypergeom(M, n, N)\n",
    "x3 = np.arange(0, n+1)\n",
    "pmf_imprint3 = rv3.pmf(x3)"
   ]
  },
  {
   "cell_type": "code",
   "execution_count": 10,
   "metadata": {
    "collapsed": false
   },
   "outputs": [
    {
     "data": {
      "image/png": "[encoded data removed]",
      "text/plain": [
       "<matplotlib.figure.Figure at 0x89adc18>"
      ]
     },
     "metadata": {},
     "output_type": "display_data"
    }
   ],
   "source": [
    "fig3 = plt.figure()\n",
    "ax3 = fig3.add_subplot(111)\n",
    "ax3.plot(x3, pmf_imprint3)\n",
    "\n",
    "ax3.set_xlabel('# of imprinted genes')\n",
    "ax3.set_ylabel('hypergeom PMF')\n",
    "plt.show(fig3)"
   ]
  },
  {
   "cell_type": "code",
   "execution_count": 11,
   "metadata": {
    "collapsed": false
   },
   "outputs": [
    {
     "data": {
      "text/plain": [
       "7.8539428172577888e-09"
      ]
     },
     "execution_count": 11,
     "metadata": {},
     "output_type": "execute_result"
    }
   ],
   "source": [
    "pmf_imprint3[12] # 12 enriched genes were found in the 1037 genes with 1% pFDR & |M*|>=3, => p < 0.000000008  for this by chance"
   ]
  },
  {
   "cell_type": "code",
   "execution_count": 12,
   "metadata": {
    "collapsed": true
   },
   "outputs": [],
   "source": [
    " # 13 enriched genes were found in the 4403 genes with 1% pFDR, => p < 0.003  for this by chance"
   ]
  },
  {
   "cell_type": "markdown",
   "metadata": {},
   "source": [
    "### and because all 12 genes were enriched (none depleted) the chance that 426 symbols contained 12 imprinted genes"
   ]
  },
  {
   "cell_type": "code",
   "execution_count": 13,
   "metadata": {
    "collapsed": true
   },
   "outputs": [],
   "source": [
    "[M, n, N] = [31684, 43, 426]\n",
    "rv4 = hypergeom(M, n, N)\n",
    "x4 = np.arange(0, n+1)\n",
    "pmf_imprint4 = rv4.pmf(x4)"
   ]
  },
  {
   "cell_type": "code",
   "execution_count": 14,
   "metadata": {
    "collapsed": false
   },
   "outputs": [
    {
     "data": {
      "image/png": "[encoded data removed]",
      "text/plain": [
       "<matplotlib.figure.Figure at 0x93d92e8>"
      ]
     },
     "metadata": {},
     "output_type": "display_data"
    }
   ],
   "source": [
    "fig4 = plt.figure()\n",
    "ax4 = fig4.add_subplot(111)\n",
    "ax4.plot(x4, pmf_imprint4)\n",
    "\n",
    "ax4.set_xlabel('# of imprinted genes')\n",
    "ax4.set_ylabel('hypergeom PMF')\n",
    "plt.show(fig4)"
   ]
  },
  {
   "cell_type": "code",
   "execution_count": 15,
   "metadata": {
    "collapsed": false
   },
   "outputs": [
    {
     "data": {
      "text/plain": [
       "3.0507117267439423e-13"
      ]
     },
     "execution_count": 15,
     "metadata": {},
     "output_type": "execute_result"
    }
   ],
   "source": [
    "pmf_imprint4[12] # 12 enriched genes were found in the 426 genes with 1% pFDR & M*>=3, => p < 0.0000000000004  for this by chance"
   ]
  },
  {
   "cell_type": "code",
   "execution_count": 22,
   "metadata": {
    "collapsed": false
   },
   "outputs": [
    {
     "data": {
      "text/plain": [
       "3.0507117267439423e-13"
      ]
     },
     "execution_count": 22,
     "metadata": {},
     "output_type": "execute_result"
    }
   ],
   "source": [
    "hypergeom.pmf(12,31684, 43, 426) # direct call as a single line"
   ]
  },
  {
   "cell_type": "markdown",
   "metadata": {
    "collapsed": false
   },
   "source": [
    "### Perhaps more relevent examine the chance of 12 or more enriched genes being found in the 426 symbols that passed 1% pFDR plus had an effect size of more than 3"
   ]
  },
  {
   "cell_type": "code",
   "execution_count": 23,
   "metadata": {
    "collapsed": false
   },
   "outputs": [
    {
     "data": {
      "text/plain": [
       "0.99999999997780831"
      ]
     },
     "execution_count": 23,
     "metadata": {},
     "output_type": "execute_result"
    }
   ],
   "source": [
    "hypergeom.cdf(11,31684, 43, 426) # direct call cumilative distribution function for up to 11 imprinted genes as a single line"
   ]
  },
  {
   "cell_type": "code",
   "execution_count": 21,
   "metadata": {
    "collapsed": false
   },
   "outputs": [
    {
     "data": {
      "text/plain": [
       "2.2191692927719942e-11"
      ]
     },
     "execution_count": 21,
     "metadata": {},
     "output_type": "execute_result"
    }
   ],
   "source": [
    "1-hypergeom.cdf(11,31684, 43, 426) # direct call p value for 12 or more of 43 imprinted genes in 426"
   ]
  },
  {
   "cell_type": "code",
   "execution_count": null,
   "metadata": {
    "collapsed": true
   },
   "outputs": [],
   "source": []
  }
 ],
 "metadata": {
  "kernelspec": {
   "display_name": "Python 2",
   "language": "python",
   "name": "python2"
  },
  "language_info": {
   "codemirror_mode": {
    "name": "ipython",
    "version": 2
   },
   "file_extension": ".py",
   "mimetype": "text/x-python",
   "name": "python",
   "nbconvert_exporter": "python",
   "pygments_lexer": "ipython2",
   "version": "2.7.11"
  }
 },
 "nbformat": 4,
 "nbformat_minor": 0
}
