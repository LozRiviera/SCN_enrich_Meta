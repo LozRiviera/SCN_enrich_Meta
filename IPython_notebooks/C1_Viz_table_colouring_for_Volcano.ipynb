{
 "cells": [
  {
   "cell_type": "code",
   "execution_count": 1,
   "metadata": {},
   "outputs": [],
   "source": [
    "import pandas as pd # Dataframes and good-glue\n",
    "import numpy as np # numerical calculations\n"
   ]
  },
  {
   "cell_type": "code",
   "execution_count": 2,
   "metadata": {
    "scrolled": true
   },
   "outputs": [
    {
     "data": {
      "text/html": [
       "<div>\n",
       "<style scoped>\n",
       "    .dataframe tbody tr th:only-of-type {\n",
       "        vertical-align: middle;\n",
       "    }\n",
       "\n",
       "    .dataframe tbody tr th {\n",
       "        vertical-align: top;\n",
       "    }\n",
       "\n",
       "    .dataframe thead th {\n",
       "        text-align: right;\n",
       "    }\n",
       "</style>\n",
       "<table border=\"1\" class=\"dataframe\">\n",
       "  <thead>\n",
       "    <tr style=\"text-align: right;\">\n",
       "      <th></th>\n",
       "      <th>Ensembl Gene ID</th>\n",
       "      <th>Description</th>\n",
       "      <th>MoEx_Enrich</th>\n",
       "      <th>MoEx_Hedges_g</th>\n",
       "      <th>MoEx_Var_g</th>\n",
       "      <th>MoEx_SEg</th>\n",
       "      <th>MoGene_Enrich</th>\n",
       "      <th>MoGene_Hedges_g</th>\n",
       "      <th>MoGene_Var_g</th>\n",
       "      <th>MoGene_SEg</th>\n",
       "      <th>...</th>\n",
       "      <th>esW*2</th>\n",
       "      <th>esW*3</th>\n",
       "      <th>esW*4</th>\n",
       "      <th>esW*5</th>\n",
       "      <th>REM_M*</th>\n",
       "      <th>REM_SEM*</th>\n",
       "      <th>REM_Z</th>\n",
       "      <th>REM_pVal</th>\n",
       "      <th>q-value</th>\n",
       "      <th>lfdr</th>\n",
       "    </tr>\n",
       "    <tr>\n",
       "      <th>MGI symbol</th>\n",
       "      <th></th>\n",
       "      <th></th>\n",
       "      <th></th>\n",
       "      <th></th>\n",
       "      <th></th>\n",
       "      <th></th>\n",
       "      <th></th>\n",
       "      <th></th>\n",
       "      <th></th>\n",
       "      <th></th>\n",
       "      <th></th>\n",
       "      <th></th>\n",
       "      <th></th>\n",
       "      <th></th>\n",
       "      <th></th>\n",
       "      <th></th>\n",
       "      <th></th>\n",
       "      <th></th>\n",
       "      <th></th>\n",
       "      <th></th>\n",
       "      <th></th>\n",
       "    </tr>\n",
       "  </thead>\n",
       "  <tbody>\n",
       "    <tr>\n",
       "      <th>Rin1</th>\n",
       "      <td>ENSMUSG00000024883</td>\n",
       "      <td>Ras and Rab interactor 1 [Source:MGI Symbol;Ac...</td>\n",
       "      <td>-1.678996</td>\n",
       "      <td>-8.187104</td>\n",
       "      <td>1.397441</td>\n",
       "      <td>1.182134</td>\n",
       "      <td>-1.571434</td>\n",
       "      <td>-6.870199</td>\n",
       "      <td>1.139300</td>\n",
       "      <td>1.067380</td>\n",
       "      <td>...</td>\n",
       "      <td>-6.030193</td>\n",
       "      <td>-3.992681</td>\n",
       "      <td>-3.115183</td>\n",
       "      <td>-4.207114</td>\n",
       "      <td>-6.785533</td>\n",
       "      <td>0.540770</td>\n",
       "      <td>-12.547917</td>\n",
       "      <td>4.080000e-36</td>\n",
       "      <td>8.444940e-32</td>\n",
       "      <td>0.000001</td>\n",
       "    </tr>\n",
       "    <tr>\n",
       "      <th>Asb4</th>\n",
       "      <td>ENSMUSG00000042607</td>\n",
       "      <td>ankyrin repeat and SOCS box-containing 4 [Sour...</td>\n",
       "      <td>2.545616</td>\n",
       "      <td>5.025203</td>\n",
       "      <td>0.651441</td>\n",
       "      <td>0.807119</td>\n",
       "      <td>3.272312</td>\n",
       "      <td>5.417992</td>\n",
       "      <td>0.767529</td>\n",
       "      <td>0.876087</td>\n",
       "      <td>...</td>\n",
       "      <td>7.059004</td>\n",
       "      <td>3.471747</td>\n",
       "      <td>2.892218</td>\n",
       "      <td>4.361766</td>\n",
       "      <td>5.638938</td>\n",
       "      <td>0.470262</td>\n",
       "      <td>11.991067</td>\n",
       "      <td>3.960000e-33</td>\n",
       "      <td>2.795730e-29</td>\n",
       "      <td>0.000001</td>\n",
       "    </tr>\n",
       "    <tr>\n",
       "      <th>Arhgap36</th>\n",
       "      <td>ENSMUSG00000036198</td>\n",
       "      <td>Rho GTPase activating protein 36 [Source:MGI S...</td>\n",
       "      <td>3.203549</td>\n",
       "      <td>7.041778</td>\n",
       "      <td>1.085976</td>\n",
       "      <td>1.042102</td>\n",
       "      <td>3.573682</td>\n",
       "      <td>6.929499</td>\n",
       "      <td>1.156348</td>\n",
       "      <td>1.075336</td>\n",
       "      <td>...</td>\n",
       "      <td>5.992570</td>\n",
       "      <td>3.450034</td>\n",
       "      <td>NaN</td>\n",
       "      <td>3.929354</td>\n",
       "      <td>7.238951</td>\n",
       "      <td>0.603795</td>\n",
       "      <td>11.989094</td>\n",
       "      <td>4.050000e-33</td>\n",
       "      <td>2.795730e-29</td>\n",
       "      <td>0.000001</td>\n",
       "    </tr>\n",
       "    <tr>\n",
       "      <th>Slc30a3</th>\n",
       "      <td>ENSMUSG00000029151</td>\n",
       "      <td>solute carrier family 30 (zinc transporter), m...</td>\n",
       "      <td>-3.009328</td>\n",
       "      <td>-7.564455</td>\n",
       "      <td>1.222304</td>\n",
       "      <td>1.105578</td>\n",
       "      <td>-3.600128</td>\n",
       "      <td>-8.661766</td>\n",
       "      <td>1.719020</td>\n",
       "      <td>1.311114</td>\n",
       "      <td>...</td>\n",
       "      <td>-4.615437</td>\n",
       "      <td>-3.529791</td>\n",
       "      <td>-2.948575</td>\n",
       "      <td>-3.830472</td>\n",
       "      <td>-6.967264</td>\n",
       "      <td>0.584324</td>\n",
       "      <td>-11.923629</td>\n",
       "      <td>8.910000e-33</td>\n",
       "      <td>3.855540e-29</td>\n",
       "      <td>0.000001</td>\n",
       "    </tr>\n",
       "    <tr>\n",
       "      <th>Ramp3</th>\n",
       "      <td>ENSMUSG00000041046</td>\n",
       "      <td>receptor (calcitonin) activity modifying prote...</td>\n",
       "      <td>-1.661369</td>\n",
       "      <td>-5.759190</td>\n",
       "      <td>0.792791</td>\n",
       "      <td>0.890388</td>\n",
       "      <td>-1.388415</td>\n",
       "      <td>-5.407912</td>\n",
       "      <td>0.765256</td>\n",
       "      <td>0.874789</td>\n",
       "      <td>...</td>\n",
       "      <td>-7.066803</td>\n",
       "      <td>-4.396116</td>\n",
       "      <td>-3.183813</td>\n",
       "      <td>-5.463157</td>\n",
       "      <td>-5.190456</td>\n",
       "      <td>0.435443</td>\n",
       "      <td>-11.919953</td>\n",
       "      <td>9.320000e-33</td>\n",
       "      <td>3.855540e-29</td>\n",
       "      <td>0.000001</td>\n",
       "    </tr>\n",
       "  </tbody>\n",
       "</table>\n",
       "<p>5 rows × 63 columns</p>\n",
       "</div>"
      ],
      "text/plain": [
       "               Ensembl Gene ID  \\\n",
       "MGI symbol                       \n",
       "Rin1        ENSMUSG00000024883   \n",
       "Asb4        ENSMUSG00000042607   \n",
       "Arhgap36    ENSMUSG00000036198   \n",
       "Slc30a3     ENSMUSG00000029151   \n",
       "Ramp3       ENSMUSG00000041046   \n",
       "\n",
       "                                                  Description  MoEx_Enrich  \\\n",
       "MGI symbol                                                                   \n",
       "Rin1        Ras and Rab interactor 1 [Source:MGI Symbol;Ac...    -1.678996   \n",
       "Asb4        ankyrin repeat and SOCS box-containing 4 [Sour...     2.545616   \n",
       "Arhgap36    Rho GTPase activating protein 36 [Source:MGI S...     3.203549   \n",
       "Slc30a3     solute carrier family 30 (zinc transporter), m...    -3.009328   \n",
       "Ramp3       receptor (calcitonin) activity modifying prote...    -1.661369   \n",
       "\n",
       "            MoEx_Hedges_g  MoEx_Var_g  MoEx_SEg  MoGene_Enrich  \\\n",
       "MGI symbol                                                       \n",
       "Rin1            -8.187104    1.397441  1.182134      -1.571434   \n",
       "Asb4             5.025203    0.651441  0.807119       3.272312   \n",
       "Arhgap36         7.041778    1.085976  1.042102       3.573682   \n",
       "Slc30a3         -7.564455    1.222304  1.105578      -3.600128   \n",
       "Ramp3           -5.759190    0.792791  0.890388      -1.388415   \n",
       "\n",
       "            MoGene_Hedges_g  MoGene_Var_g  MoGene_SEg    ...        esW*2  \\\n",
       "MGI symbol                                               ...                \n",
       "Rin1              -6.870199      1.139300    1.067380    ...    -6.030193   \n",
       "Asb4               5.417992      0.767529    0.876087    ...     7.059004   \n",
       "Arhgap36           6.929499      1.156348    1.075336    ...     5.992570   \n",
       "Slc30a3           -8.661766      1.719020    1.311114    ...    -4.615437   \n",
       "Ramp3             -5.407912      0.765256    0.874789    ...    -7.066803   \n",
       "\n",
       "               esW*3     esW*4     esW*5    REM_M*  REM_SEM*      REM_Z  \\\n",
       "MGI symbol                                                                \n",
       "Rin1       -3.992681 -3.115183 -4.207114 -6.785533  0.540770 -12.547917   \n",
       "Asb4        3.471747  2.892218  4.361766  5.638938  0.470262  11.991067   \n",
       "Arhgap36    3.450034       NaN  3.929354  7.238951  0.603795  11.989094   \n",
       "Slc30a3    -3.529791 -2.948575 -3.830472 -6.967264  0.584324 -11.923629   \n",
       "Ramp3      -4.396116 -3.183813 -5.463157 -5.190456  0.435443 -11.919953   \n",
       "\n",
       "                REM_pVal      q-value      lfdr   \n",
       "MGI symbol                                        \n",
       "Rin1        4.080000e-36  8.444940e-32  0.000001  \n",
       "Asb4        3.960000e-33  2.795730e-29  0.000001  \n",
       "Arhgap36    4.050000e-33  2.795730e-29  0.000001  \n",
       "Slc30a3     8.910000e-33  3.855540e-29  0.000001  \n",
       "Ramp3       9.320000e-33  3.855540e-29  0.000001  \n",
       "\n",
       "[5 rows x 63 columns]"
      ]
     },
     "execution_count": 2,
     "metadata": {},
     "output_type": "execute_result"
    }
   ],
   "source": [
    "df=pd.read_csv('input_files/meta_out_Symbol(REM)_qvals.csv',index_col=[0])\n",
    "df.head()"
   ]
  },
  {
   "cell_type": "code",
   "execution_count": 3,
   "metadata": {},
   "outputs": [
    {
     "data": {
      "text/plain": [
       "(31684, 63)"
      ]
     },
     "execution_count": 3,
     "metadata": {},
     "output_type": "execute_result"
    }
   ],
   "source": [
    "df.shape #.dtypes"
   ]
  },
  {
   "cell_type": "code",
   "execution_count": 4,
   "metadata": {},
   "outputs": [
    {
     "data": {
      "text/plain": [
       "Index(['Ensembl Gene ID', 'Description', 'MoEx_Enrich', 'MoEx_Hedges_g',\n",
       "       'MoEx_Var_g', 'MoEx_SEg', 'MoGene_Enrich', 'MoGene_Hedges_g',\n",
       "       'MoGene_Var_g', 'MoGene_SEg', 'RNA_Seq_Enrich', 'RNA_Seq_Hedges_g',\n",
       "       'RNA_Seq_Var_g', 'RNA_Seq_SEg', '430V2_Enrich', '430V2_Hedges_g',\n",
       "       '430V2_Var_g', '430V2_SEg', '430AV2_Enrich', '430AV2_Hedges_g',\n",
       "       '430AV2_Var_g', '430AV2_SEg', 'W1', 'W2', 'W3', 'W4', 'W5', 'W1^2',\n",
       "       'W2^2', 'W3^2', 'W4^2', 'W5^2', 'esW1', 'esW2', 'esW3', 'esW4', 'esW5',\n",
       "       'esSqW1', 'esSqW2', 'esSqW3', 'esSqW4', 'esSqW5', 'df', 'Q', 'C', 'I^2',\n",
       "       'Tau^2', 'W*1', 'W*2', 'W*3', 'W*4', 'W*5', 'esW*1', 'esW*2', 'esW*3',\n",
       "       'esW*4', 'esW*5', 'REM_M*', 'REM_SEM*', 'REM_Z', 'REM_pVal', 'q-value',\n",
       "       'lfdr'],\n",
       "      dtype='object')"
      ]
     },
     "execution_count": 4,
     "metadata": {},
     "output_type": "execute_result"
    }
   ],
   "source": [
    "df.columns =df.columns.str.strip() #drop gaps in column titles \n",
    "df.columns"
   ]
  },
  {
   "cell_type": "code",
   "execution_count": 5,
   "metadata": {},
   "outputs": [
    {
     "data": {
      "text/plain": [
       "(31684, 63)"
      ]
     },
     "execution_count": 5,
     "metadata": {},
     "output_type": "execute_result"
    }
   ],
   "source": [
    "df.shape"
   ]
  },
  {
   "cell_type": "code",
   "execution_count": 6,
   "metadata": {},
   "outputs": [
    {
     "name": "stderr",
     "output_type": "stream",
     "text": [
      "C:\\Users\\loz_r\\Anaconda3\\envs\\NARv3\\lib\\site-packages\\ipykernel_launcher.py:3: SettingWithCopyWarning: \n",
      "A value is trying to be set on a copy of a slice from a DataFrame\n",
      "\n",
      "See the caveats in the documentation: http://pandas.pydata.org/pandas-docs/stable/indexing.html#indexing-view-versus-copy\n",
      "  This is separate from the ipykernel package so we can avoid doing imports until\n",
      "C:\\Users\\loz_r\\Anaconda3\\envs\\NARv3\\lib\\site-packages\\ipykernel_launcher.py:4: SettingWithCopyWarning: \n",
      "A value is trying to be set on a copy of a slice from a DataFrame\n",
      "\n",
      "See the caveats in the documentation: http://pandas.pydata.org/pandas-docs/stable/indexing.html#indexing-view-versus-copy\n",
      "  after removing the cwd from sys.path.\n"
     ]
    }
   ],
   "source": [
    "# define alphas in dataframe\n",
    "df[\"color\"] = \"grey\"\n",
    "df[\"color\"][(df['REM_M*'] <= -3) & (df['q-value'] < 0.01)] = \"navy\"\n",
    "df[\"color\"][(df['REM_M*'] >= 3) & (df['q-value'] < 0.01)]= \"gold\"\n",
    "\n",
    "df[\"alpha\"] = np.where(df['q-value'] < 0.01, 0.4, 0.05)\n",
    "df['log_q']= np.log10(df['q-value'])"
   ]
  },
  {
   "cell_type": "code",
   "execution_count": 7,
   "metadata": {},
   "outputs": [],
   "source": [
    "df2 =df.round({'MoEx_Enrich':2, u'MoEx_Hedges_g':2,\n",
    "       u'MoEx_Var_g':2, u'MoEx_SEg':2, u'MoGene_Enrich':2, u'MoGene_Hedges_g':2,\n",
    "       u'MoGene_Var_g':2, u'MoGene_SEg':2, u'RNA_Seq_Enrich':2, u'RNA_Seq_Hedges_g':2,\n",
    "       u'RNA_Seq_Var_g':2, u'RNA_Seq_SEg':2, u'430V2_Enrich':2, u'430V2_Hedges_g':2,\n",
    "       u'430V2_Var_g':2, u'430V2_SEg':2, u'430AV2_Enrich':2, u'430AV2_Hedges_g':2,\n",
    "       u'430AV2_Var_g':2, u'df':0,u'I^2':2, u'Tau^2':2, u'REM_M*':2, u'log_q':2})"
   ]
  },
  {
   "cell_type": "code",
   "execution_count": 8,
   "metadata": {},
   "outputs": [],
   "source": [
    "df2.to_csv('input_files/Bokeh_volcano_dataframe.csv')"
   ]
  },
  {
   "cell_type": "code",
   "execution_count": 9,
   "metadata": {},
   "outputs": [],
   "source": [
    "df3 = df[df['q-value'] < 0.01]"
   ]
  },
  {
   "cell_type": "code",
   "execution_count": 10,
   "metadata": {},
   "outputs": [
    {
     "data": {
      "text/plain": [
       "(4403, 66)"
      ]
     },
     "execution_count": 10,
     "metadata": {},
     "output_type": "execute_result"
    }
   ],
   "source": [
    "df3.shape"
   ]
  },
  {
   "cell_type": "code",
   "execution_count": null,
   "metadata": {},
   "outputs": [],
   "source": []
  },
  {
   "cell_type": "code",
   "execution_count": null,
   "metadata": {},
   "outputs": [],
   "source": []
  }
 ],
 "metadata": {
  "kernelspec": {
   "display_name": "Python 3",
   "language": "python",
   "name": "python3"
  },
  "language_info": {
   "codemirror_mode": {
    "name": "ipython",
    "version": 3
   },
   "file_extension": ".py",
   "mimetype": "text/x-python",
   "name": "python",
   "nbconvert_exporter": "python",
   "pygments_lexer": "ipython3",
   "version": "3.6.5"
  }
 },
 "nbformat": 4,
 "nbformat_minor": 1
}
