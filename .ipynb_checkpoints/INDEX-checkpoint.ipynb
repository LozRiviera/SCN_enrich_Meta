{
 "cells": [
  {
   "cell_type": "markdown",
   "metadata": {},
   "source": [
    "##  Data and Notebooks to examine enriched transcripts in the SCN via Meta-analysis"
   ]
  },
  {
   "cell_type": "markdown",
   "metadata": {
    "collapsed": true
   },
   "source": [
    "### These notebooks constitute the meta-analysis carried out in Brown et al (2016)  ... \n"
   ]
  },
  {
   "cell_type": "code",
   "execution_count": null,
   "metadata": {
    "collapsed": true
   },
   "outputs": [],
   "source": [
    "from IPython.display import Image, FileLink, FileLinks\n"
   ]
  },
  {
   "cell_type": "markdown",
   "metadata": {
    "collapsed": true
   },
   "source": [
    "The analysis uses the Python programming language, version 2.7.11, as well a a number of more specific packages.\n",
    "These are all found as part of the Anaconda Python environment produced by Contiuum Analytics\n",
    "This is BSD licenced and cross platform.\n",
    "https://www.continuum.io/downloads \n",
    "\n",
    "all required python packages:\n",
    "\n",
    "    pandas  0.17.0\n",
    "    numpy   1.9.3\n",
    "    bokeh   0.10.0\n",
    "    scipy   0.16.0\n",
    "\n",
    "\n",
    "are installed by default in anaconda2 4.0.0 and beyond\n",
    "\n",
    "(environment can be recreated using 'conda create included NAR.yml file)"
   ]
  },
  {
   "cell_type": "code",
   "execution_count": null,
   "metadata": {
    "collapsed": false
   },
   "outputs": [],
   "source": [
    "flow = Image('Workflow.png')\n",
    "flow"
   ]
  },
  {
   "cell_type": "markdown",
   "metadata": {
    "collapsed": false
   },
   "source": [
    "### Below is the index of notebook files \n",
    "\n",
    "#####  To repeat the analysis:\n",
    "    - unpack the copies of the Altanalyze output \n",
    "    - run all 'Hedges g' calculations (A1-5)\n",
    "    - index these files (B1) \n",
    "    - then finally run the REM meta-analysis (B2), followed by the vizualisation (C) if required\n"
   ]
  },
  {
   "cell_type": "code",
   "execution_count": 13,
   "metadata": {
    "collapsed": false
   },
   "outputs": [
    {
     "data": {
      "text/html": [
       "./<br>\n",
       "&nbsp;&nbsp;<a href='./5_Hypergeometric_distribution_for_Imprinted_genes.ipynb' target='_blank'>5_Hypergeometric_distribution_for_Imprinted_genes.ipynb</a><br>\n",
       "&nbsp;&nbsp;<a href='./A1_430AV2_Hedges_g.ipynb' target='_blank'>A1_430AV2_Hedges_g.ipynb</a><br>\n",
       "&nbsp;&nbsp;<a href='./A2_430V2_Hedges_g.ipynb' target='_blank'>A2_430V2_Hedges_g.ipynb</a><br>\n",
       "&nbsp;&nbsp;<a href='./A3_MoEx_Hedges_g.ipynb' target='_blank'>A3_MoEx_Hedges_g.ipynb</a><br>\n",
       "&nbsp;&nbsp;<a href='./A4_MoGene_Hedges_g.ipynb' target='_blank'>A4_MoGene_Hedges_g.ipynb</a><br>\n",
       "&nbsp;&nbsp;<a href='./A5_RNA_Seq_Hedges_g.ipynb' target='_blank'>A5_RNA_Seq_Hedges_g.ipynb</a><br>\n",
       "&nbsp;&nbsp;<a href='./B1_indexing_Hedgesgs_symbol.ipynb' target='_blank'>B1_indexing_Hedgesgs_symbol.ipynb</a><br>\n",
       "&nbsp;&nbsp;<a href='./B2_REM_Meta_Analysis.ipynb' target='_blank'>B2_REM_Meta_Analysis.ipynb</a><br>\n",
       "&nbsp;&nbsp;<a href='./C1_Viz_table_colouring_for_Volcano.ipynb' target='_blank'>C1_Viz_table_colouring_for_Volcano.ipynb</a><br>\n",
       "&nbsp;&nbsp;<a href='./C2_Viz_Plot_plus_table.ipynb' target='_blank'>C2_Viz_Plot_plus_table.ipynb</a><br>\n",
       "&nbsp;&nbsp;<a href='./INDEX.ipynb' target='_blank'>INDEX.ipynb</a><br>"
      ],
      "text/plain": [
       "./\n",
       "  5_Hypergeometric_distribution_for_Imprinted_genes.ipynb\n",
       "  A1_430AV2_Hedges_g.ipynb\n",
       "  A2_430V2_Hedges_g.ipynb\n",
       "  A3_MoEx_Hedges_g.ipynb\n",
       "  A4_MoGene_Hedges_g.ipynb\n",
       "  A5_RNA_Seq_Hedges_g.ipynb\n",
       "  B1_indexing_Hedgesgs_symbol.ipynb\n",
       "  B2_REM_Meta_Analysis.ipynb\n",
       "  C1_Viz_table_colouring_for_Volcano.ipynb\n",
       "  C2_Viz_Plot_plus_table.ipynb\n",
       "  INDEX.ipynb"
      ]
     },
     "execution_count": 13,
     "metadata": {},
     "output_type": "execute_result"
    }
   ],
   "source": [
    "FileLinks('.', included_suffixes='.ipynb', recursive=False)"
   ]
  },
  {
   "cell_type": "code",
   "execution_count": null,
   "metadata": {
    "collapsed": true
   },
   "outputs": [],
   "source": []
  },
  {
   "cell_type": "code",
   "execution_count": null,
   "metadata": {
    "collapsed": true
   },
   "outputs": [],
   "source": []
  },
  {
   "cell_type": "code",
   "execution_count": null,
   "metadata": {
    "collapsed": true
   },
   "outputs": [],
   "source": []
  }
 ],
 "metadata": {
  "kernelspec": {
   "display_name": "Python 2",
   "language": "python",
   "name": "python2"
  },
  "language_info": {
   "codemirror_mode": {
    "name": "ipython",
    "version": 2
   },
   "file_extension": ".py",
   "mimetype": "text/x-python",
   "name": "python",
   "nbconvert_exporter": "python",
   "pygments_lexer": "ipython2",
   "version": "2.7.11"
  }
 },
 "nbformat": 4,
 "nbformat_minor": 0
}
